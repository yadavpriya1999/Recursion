{
 "cells": [
  {
   "cell_type": "markdown",
   "id": "4101f4ef",
   "metadata": {},
   "source": [
    "Q.1 Can you explain the logic and working of the Tower of Hanoi algorithm by writing a Java program?\n",
    "How does the recursion work, and how are the movements of disks between rods accomplished?"
   ]
  },
  {
   "cell_type": "code",
   "execution_count": 3,
   "id": "3728cb3f",
   "metadata": {},
   "outputs": [
    {
     "name": "stdout",
     "output_type": "stream",
     "text": [
      "Move disk 1 from A to C\n",
      "Move disk 2 from A to B\n",
      "Move disk 1 from C to B\n",
      "Move disk 3 from A to C\n",
      "Move disk 1 from B to A\n",
      "Move disk 2 from B to C\n",
      "Move disk 1 from A to C\n"
     ]
    }
   ],
   "source": [
    "def tower_of_hanoi(n, source, target, auxiliary):\n",
    "    if n > 0:\n",
    "        # Step 1: Move (n-1) disks from source to auxiliary peg\n",
    "        tower_of_hanoi(n-1, source, auxiliary, target)\n",
    "\n",
    "        # Step 2: Move the nth disk from source to target peg\n",
    "        print(f\"Move disk {n} from {source} to {target}\")\n",
    "\n",
    "        # Step 3: Move (n-1) disks from auxiliary peg to target peg\n",
    "        tower_of_hanoi(n-1, auxiliary, target, source)\n",
    "\n",
    "number_of_disks = 3\n",
    "tower_of_hanoi(number_of_disks, 'A', 'C', 'B')\n"
   ]
  },
  {
   "cell_type": "markdown",
   "id": "a2741c08",
   "metadata": {},
   "source": [
    "Q.2 Given two strings word1 and word2, return the minimum number of operations required to convert word1\n",
    "to word2.\n",
    "Example 1:\n",
    "Input: word1 = \"horse\", word2 = \"ros\"\n",
    "Output: 3"
   ]
  },
  {
   "cell_type": "code",
   "execution_count": 1,
   "id": "9fc43ae7",
   "metadata": {},
   "outputs": [
    {
     "name": "stdout",
     "output_type": "stream",
     "text": [
      "3\n"
     ]
    }
   ],
   "source": [
    "def min_operations(word1, word2):\n",
    "    if not word1:\n",
    "        return len(word2)  \n",
    "    if not word2:\n",
    "        return len(word1) \n",
    "\n",
    "    # If the last characters of the words match, no operation is needed\n",
    "    if word1[-1] == word2[-1]:\n",
    "        return min_operations(word1[:-1], word2[:-1])\n",
    "\n",
    "    # Perform one of the three operations (insert, delete, or substitute)\n",
    "    insert_op = 1 + min_operations(word1, word2[:-1])\n",
    "    delete_op = 1 + min_operations(word1[:-1], word2)\n",
    "    substitute_op = 1 + min_operations(word1[:-1], word2[:-1])\n",
    "    return min(insert_op, delete_op, substitute_op)\n",
    "\n",
    "word1 = \"horse\"\n",
    "word2 = \"ros\"\n",
    "result = min_operations(word1, word2)\n",
    "print(result)"
   ]
  },
  {
   "cell_type": "markdown",
   "id": "b848123a",
   "metadata": {},
   "source": [
    "Q. 3 Print the max value of the array [ 13, 1, -3, 22, 5]."
   ]
  },
  {
   "cell_type": "code",
   "execution_count": 4,
   "id": "681bde5f",
   "metadata": {},
   "outputs": [],
   "source": [
    "def findMax(arr):\n",
    "    maxEle=arr[0]\n",
    "    for i in range(1,len(arr)):\n",
    "        if arr[i] > maxEle:\n",
    "            maxEle=arr[i]\n",
    "    return maxEle"
   ]
  },
  {
   "cell_type": "code",
   "execution_count": 5,
   "id": "02f6d3ed",
   "metadata": {},
   "outputs": [
    {
     "name": "stdout",
     "output_type": "stream",
     "text": [
      "22\n"
     ]
    }
   ],
   "source": [
    "arr=[13, 1, -3, 22, 5]\n",
    "print(findMax(arr))"
   ]
  },
  {
   "cell_type": "markdown",
   "id": "0a070347",
   "metadata": {},
   "source": [
    "Q.4 Find the sum of the values of the array [92, 23, 15, -20, 10]."
   ]
  },
  {
   "cell_type": "code",
   "execution_count": 9,
   "id": "32d3b3a9",
   "metadata": {},
   "outputs": [],
   "source": [
    "def sumEle(arr):\n",
    "    ans=0\n",
    "    for i in range(len(arr)):\n",
    "        ans+=arr[i]\n",
    "    return ans"
   ]
  },
  {
   "cell_type": "code",
   "execution_count": 10,
   "id": "71cd4f99",
   "metadata": {},
   "outputs": [
    {
     "name": "stdout",
     "output_type": "stream",
     "text": [
      "120\n"
     ]
    }
   ],
   "source": [
    "arr=[92, 23, 15, -20, 10]\n",
    "print(sumEle(arr))"
   ]
  },
  {
   "cell_type": "markdown",
   "id": "6421d966",
   "metadata": {},
   "source": [
    "Q.5 Given a number n. Print if it is an armstrong number or not.An armstrong number is a number if the sum \n",
    "of every digit in that number raised to the power of total digits in that number is equal to the number."
   ]
  },
  {
   "cell_type": "code",
   "execution_count": 22,
   "id": "c5a09bf8",
   "metadata": {},
   "outputs": [],
   "source": [
    "def armstrongNumber(n):\n",
    "    temp=n\n",
    "    sumEle=0\n",
    "    while temp>0:\n",
    "        digit=temp%10\n",
    "        sumEle+=digit**3\n",
    "        temp//=10\n",
    "    return (n==sumEle)"
   ]
  },
  {
   "cell_type": "code",
   "execution_count": 24,
   "id": "9879ae57",
   "metadata": {},
   "outputs": [
    {
     "name": "stdout",
     "output_type": "stream",
     "text": [
      "True\n"
     ]
    }
   ],
   "source": [
    "n=407\n",
    "ans=armstrongNumber(n)\n",
    "print(ans)"
   ]
  },
  {
   "cell_type": "code",
   "execution_count": null,
   "id": "92d27e7b",
   "metadata": {},
   "outputs": [],
   "source": []
  }
 ],
 "metadata": {
  "kernelspec": {
   "display_name": "Python 3 (ipykernel)",
   "language": "python",
   "name": "python3"
  },
  "language_info": {
   "codemirror_mode": {
    "name": "ipython",
    "version": 3
   },
   "file_extension": ".py",
   "mimetype": "text/x-python",
   "name": "python",
   "nbconvert_exporter": "python",
   "pygments_lexer": "ipython3",
   "version": "3.10.9"
  }
 },
 "nbformat": 4,
 "nbformat_minor": 5
}
